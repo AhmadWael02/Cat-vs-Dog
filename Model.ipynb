{
 "cells": [
  {
   "cell_type": "code",
   "execution_count": 5,
   "id": "76d8b990-b7c8-4489-9ab4-f34aacf12c5c",
   "metadata": {
    "id": "76d8b990-b7c8-4489-9ab4-f34aacf12c5c"
   },
   "outputs": [],
   "source": [
    "import torch\n",
    "import torch.nn as nn\n",
    "import torch.optim as optim\n",
    "from torch.optim import lr_scheduler\n",
    "import torch.backends.cudnn as cudnn\n",
    "import numpy as np\n",
    "import torchvision\n",
    "from torchvision import datasets, models, transforms\n",
    "import matplotlib.pyplot as plt\n",
    "import time\n",
    "import os\n",
    "from PIL import Image\n",
    "from tempfile import TemporaryDirectory\n",
    "from sklearn.metrics import precision_score, recall_score, f1_score, confusion_matrix\n",
    "import seaborn as sns"
   ]
  },
  {
   "cell_type": "code",
   "execution_count": 6,
   "id": "d74582e6-637d-4a67-ba93-3cb6bef461e5",
   "metadata": {
    "id": "d74582e6-637d-4a67-ba93-3cb6bef461e5"
   },
   "outputs": [],
   "source": [
    "import  torch.utils.tensorboard as tensorboard\n",
    "from torch.utils.tensorboard import SummaryWriter\n",
    "writer = SummaryWriter('runs/Final_Inference')"
   ]
  },
  {
   "cell_type": "code",
   "execution_count": 7,
   "id": "6e74b005-11a7-466c-a4fa-5b0ddf55dfd3",
   "metadata": {
    "id": "6e74b005-11a7-466c-a4fa-5b0ddf55dfd3"
   },
   "outputs": [],
   "source": [
    "device = torch.device(\"cuda:0\" if torch.cuda.is_available() else \"cpu\")"
   ]
  },
  {
   "cell_type": "code",
   "execution_count": 8,
   "id": "0cf0c697-b3fc-4548-b3b0-ea962e7e1ddd",
   "metadata": {
    "colab": {
     "base_uri": "https://localhost:8080/"
    },
    "id": "0cf0c697-b3fc-4548-b3b0-ea962e7e1ddd",
    "outputId": "6fd89c5b-c6d7-48df-fef1-bec1710bbeb2"
   },
   "outputs": [
    {
     "data": {
      "text/plain": [
       "device(type='cpu')"
      ]
     },
     "execution_count": 8,
     "metadata": {},
     "output_type": "execute_result"
    }
   ],
   "source": [
    "device"
   ]
  },
  {
   "cell_type": "code",
   "execution_count": 5,
   "id": "f8026457-a38f-400b-8bd5-caa91e9b01e7",
   "metadata": {
    "id": "f8026457-a38f-400b-8bd5-caa91e9b01e7"
   },
   "outputs": [],
   "source": [
    "data_dir = 'PetImages'\n",
    "data_transforms = {\n",
    "    'train': transforms.Compose([\n",
    "        transforms.RandomResizedCrop(224),\n",
    "        transforms.RandomHorizontalFlip(),\n",
    "        transforms.ToTensor(),\n",
    "        transforms.Normalize([0.485, 0.456, 0.406], [0.229, 0.224, 0.225])\n",
    "    ]),\n",
    "    'val': transforms.Compose([\n",
    "        transforms.Resize(256),\n",
    "        transforms.CenterCrop(224),\n",
    "        transforms.ToTensor(),\n",
    "        transforms.Normalize([0.485, 0.456, 0.406], [0.229, 0.224, 0.225])\n",
    "    ]),\n",
    "}"
   ]
  },
  {
   "cell_type": "code",
   "execution_count": 6,
   "id": "c4c723bf-2341-479f-8a02-be5dfb7f62a9",
   "metadata": {
    "colab": {
     "base_uri": "https://localhost:8080/",
     "height": 356
    },
    "id": "c4c723bf-2341-479f-8a02-be5dfb7f62a9",
    "outputId": "21ca15f9-27be-4800-da9d-af13e32d4458"
   },
   "outputs": [],
   "source": [
    "image_datasets = {x: datasets.ImageFolder(os.path.join(data_dir, x), data_transforms[x]) for x in ['train', 'val']}\n",
    "dataloaders = {x: torch.utils.data.DataLoader(image_datasets[x], batch_size=16, shuffle=True, num_workers=4) for x in ['train', 'val']}\n",
    "dataset_sizes = {x: len(image_datasets[x]) for x in ['train', 'val']}\n",
    "class_names = image_datasets['train'].classes"
   ]
  },
  {
   "cell_type": "code",
   "execution_count": 7,
   "id": "d81da182-9937-4e42-a991-2294c0f5ae76",
   "metadata": {
    "id": "d81da182-9937-4e42-a991-2294c0f5ae76"
   },
   "outputs": [
    {
     "name": "stdout",
     "output_type": "stream",
     "text": [
      "Image shape: torch.Size([16, 3, 224, 224]) -> [batch_size, color_channels, height, width]\n",
      "Label shape: torch.Size([16])\n"
     ]
    }
   ],
   "source": [
    "samples=iter(dataloaders['train'])\n",
    "img,label=next(samples)\n",
    "\n",
    "img=img.to(device)\n",
    "label=label.to(device)\n",
    "\n",
    "image_grid=torchvision.utils.make_grid(img,nrow=8)\n",
    "writer.add_image('images',image_grid)\n",
    "writer.close()\n",
    "\n",
    "\n",
    "print(f\"Image shape: {img.shape} -> [batch_size, color_channels, height, width]\")\n",
    "print(f\"Label shape: {label.shape}\")"
   ]
  },
  {
   "cell_type": "code",
   "execution_count": 8,
   "id": "8d93a57f-e606-45b3-9658-5ecacb6aaa48",
   "metadata": {
    "id": "8d93a57f-e606-45b3-9658-5ecacb6aaa48"
   },
   "outputs": [],
   "source": [
    "from tqdm import tqdm\n",
    "def train(model,criterion,optimizer,dataloaders,dataset_sizes,device):\n",
    "    model.train()\n",
    "    running_loss = 0.0\n",
    "\n",
    "    for inputs, labels in tqdm(dataloaders['train']):\n",
    "        inputs,labels = inputs.to(device), labels.to(device)\n",
    "\n",
    "        optimizer.zero_grad()\n",
    "\n",
    "        outputs = model(inputs)\n",
    "        loss = criterion(outputs, labels)\n",
    "        loss.backward()\n",
    "        optimizer.step()\n",
    "        running_loss += loss.item()\n",
    "\n",
    "    epoch_loss = running_loss / dataset_sizes['train']\n",
    "    print(f'Train Loss: {epoch_loss:.4f}')\n",
    "    return epoch_loss"
   ]
  },
  {
   "cell_type": "code",
   "execution_count": 9,
   "id": "7c48d822-a49b-44a6-8383-6fb9abecc460",
   "metadata": {
    "id": "7c48d822-a49b-44a6-8383-6fb9abecc460"
   },
   "outputs": [],
   "source": [
    "def validate(model,dataloaders,dataset_size,criterion,device):\n",
    "    model.eval()\n",
    "\n",
    "    running_loss = 0.0\n",
    "    correct = 0\n",
    "    total = 0\n",
    "    all_labels = []\n",
    "    all_preds = []\n",
    "    tp=0\n",
    "    tn=0\n",
    "    fp=0\n",
    "    fn=0\n",
    "    precision = 0.0\n",
    "    recall = 0.0\n",
    "    f1 = 0.0\n",
    "\n",
    "\n",
    "    with torch.no_grad():\n",
    "        for inputs, labels in tqdm(dataloaders['val']):\n",
    "            inputs,labels = inputs.to(device),labels.to(device)\n",
    "\n",
    "            outputs = model(inputs)\n",
    "            loss = criterion(outputs, labels)\n",
    "\n",
    "            running_loss += loss.item()\n",
    "\n",
    "            _,predicted = torch.max(outputs.data,1)\n",
    "            total += labels.size(0)\n",
    "            correct += (predicted == labels).sum().item()\n",
    "\n",
    "            all_labels.extend(labels.cpu().numpy())\n",
    "            all_preds.extend(predicted.cpu().numpy())\n",
    "\n",
    "            for p, lbl in zip(predicted, labels):\n",
    "                if p == lbl:\n",
    "                    if p == 1:\n",
    "                        tp += 1\n",
    "                    else:\n",
    "                        tn += 1\n",
    "                else:\n",
    "                    if p == 1:\n",
    "                        fp += 1\n",
    "                    else:\n",
    "                        fn += 1\n",
    "\n",
    "    epoch_loss = running_loss/dataset_size['val']\n",
    "    accuracy = correct/total\n",
    "\n",
    "\n",
    "    precision = tp / (tp + fp)\n",
    "    recall = tp / (tp + fn)\n",
    "    f1 = 2 * (precision * recall) / (precision + recall)\n",
    "\n",
    "    conf_matrix = confusion_matrix(all_labels, all_preds)\n",
    "\n",
    "    print(f'Validation Loss: {epoch_loss:.4f}, Accuracy: {accuracy:.4f}')\n",
    "    print(f'Precision: {precision:.4f}, Recall: {recall:.4f}, F1 Score: {f1:.4f}')\n",
    "    print(f'Confusion Matrix:\\n{conf_matrix}')\n",
    "    return epoch_loss, accuracy, precision, recall, f1, conf_matrix\n"
   ]
  },
  {
   "cell_type": "code",
   "execution_count": 10,
   "id": "4047388b-7506-4fcd-b304-c3f86f9ab4ee",
   "metadata": {
    "id": "4047388b-7506-4fcd-b304-c3f86f9ab4ee"
   },
   "outputs": [],
   "source": [
    "import torch\n",
    "import torchvision.models as models\n",
    "from torchvision.models import ResNet18_Weights\n",
    "\n",
    "weights_path = \"C:/Users/awael/.cache/torch/hub/checkpoints/resnet18-f37072fd.pth\""
   ]
  },
  {
   "cell_type": "code",
   "execution_count": 11,
   "id": "df9416e4-da54-427f-be6d-5801d1156de4",
   "metadata": {
    "id": "df9416e4-da54-427f-be6d-5801d1156de4"
   },
   "outputs": [],
   "source": [
    "model_ft = models.resnet18()\n",
    "model_ft.load_state_dict(torch.load(weights_path))\n",
    "num_ftrs = model_ft.fc.in_features\n",
    "model_ft.fc = nn.Linear(num_ftrs, 2)\n",
    "\n",
    "model_ft = model_ft.to(device)\n",
    "\n",
    "criterion = nn.CrossEntropyLoss()\n",
    "\n",
    "optimizer_ft = optim.SGD(model_ft.parameters(), lr=0.0001, momentum=0.9)\n",
    "\n",
    "exp_lr_scheduler = lr_scheduler.StepLR(optimizer_ft, step_size=7, gamma=0.1)"
   ]
  },
  {
   "cell_type": "code",
   "execution_count": 12,
   "id": "72d0307a-6b6f-4904-83fd-6e99e493093a",
   "metadata": {
    "id": "72d0307a-6b6f-4904-83fd-6e99e493093a"
   },
   "outputs": [],
   "source": [
    "writer.add_graph(model_ft,img)\n",
    "writer.close()"
   ]
  },
  {
   "cell_type": "code",
   "execution_count": 13,
   "id": "5732f783-70e3-40b5-aaa1-8b358445e5d1",
   "metadata": {
    "id": "5732f783-70e3-40b5-aaa1-8b358445e5d1"
   },
   "outputs": [],
   "source": [
    "def plot_confusion_matrix():\n",
    "  fig, ax = plt.subplots(figsize=(10, 10))\n",
    "  sns.heatmap(conf_matrix, annot=True, fmt='d', cmap='Blues', ax=ax)\n",
    "  plt.xlabel('Predicted')\n",
    "  plt.ylabel('True')\n",
    "  plt.title('Confusion Matrix')\n",
    "\n",
    "  return fig"
   ]
  },
  {
   "cell_type": "code",
   "execution_count": 14,
   "id": "7a3dccfa-f4ea-4aa4-b94a-fcb1d8da3f62",
   "metadata": {
    "id": "7a3dccfa-f4ea-4aa4-b94a-fcb1d8da3f62"
   },
   "outputs": [
    {
     "name": "stdout",
     "output_type": "stream",
     "text": [
      "Epoch 1/26\n",
      "----------\n"
     ]
    },
    {
     "name": "stderr",
     "output_type": "stream",
     "text": [
      "100%|██████████████████████████████████████████████████████████████████████████████| 1313/1313 [15:56<00:00,  1.37it/s]\n"
     ]
    },
    {
     "name": "stdout",
     "output_type": "stream",
     "text": [
      "Train Loss: 0.0140\n"
     ]
    },
    {
     "name": "stderr",
     "output_type": "stream",
     "text": [
      "100%|████████████████████████████████████████████████████████████████████████████████| 250/250 [01:17<00:00,  3.24it/s]\n"
     ]
    },
    {
     "name": "stdout",
     "output_type": "stream",
     "text": [
      "Validation Loss: 0.0031, Accuracy: 0.9850\n",
      "Precision: 0.9855, Recall: 0.9845, F1 Score: 0.9850\n",
      "Confusion Matrix:\n",
      "[[1971   29]\n",
      " [  31 1969]]\n",
      "Epoch 2/26\n",
      "----------\n"
     ]
    },
    {
     "name": "stderr",
     "output_type": "stream",
     "text": [
      "100%|██████████████████████████████████████████████████████████████████████████████| 1313/1313 [16:03<00:00,  1.36it/s]\n"
     ]
    },
    {
     "name": "stdout",
     "output_type": "stream",
     "text": [
      "Train Loss: 0.0096\n"
     ]
    },
    {
     "name": "stderr",
     "output_type": "stream",
     "text": [
      "100%|████████████████████████████████████████████████████████████████████████████████| 250/250 [01:15<00:00,  3.30it/s]\n"
     ]
    },
    {
     "name": "stdout",
     "output_type": "stream",
     "text": [
      "Validation Loss: 0.0024, Accuracy: 0.9880\n",
      "Precision: 0.9914, Recall: 0.9845, F1 Score: 0.9880\n",
      "Confusion Matrix:\n",
      "[[1983   17]\n",
      " [  31 1969]]\n",
      "Epoch 3/26\n",
      "----------\n"
     ]
    },
    {
     "name": "stderr",
     "output_type": "stream",
     "text": [
      "100%|██████████████████████████████████████████████████████████████████████████████| 1313/1313 [16:01<00:00,  1.36it/s]\n"
     ]
    },
    {
     "name": "stdout",
     "output_type": "stream",
     "text": [
      "Train Loss: 0.0089\n"
     ]
    },
    {
     "name": "stderr",
     "output_type": "stream",
     "text": [
      "100%|████████████████████████████████████████████████████████████████████████████████| 250/250 [01:15<00:00,  3.30it/s]\n"
     ]
    },
    {
     "name": "stdout",
     "output_type": "stream",
     "text": [
      "Validation Loss: 0.0022, Accuracy: 0.9885\n",
      "Precision: 0.9846, Recall: 0.9925, F1 Score: 0.9885\n",
      "Confusion Matrix:\n",
      "[[1969   31]\n",
      " [  15 1985]]\n",
      "Epoch 4/26\n",
      "----------\n"
     ]
    },
    {
     "name": "stderr",
     "output_type": "stream",
     "text": [
      "100%|██████████████████████████████████████████████████████████████████████████████| 1313/1313 [16:03<00:00,  1.36it/s]\n"
     ]
    },
    {
     "name": "stdout",
     "output_type": "stream",
     "text": [
      "Train Loss: 0.0082\n"
     ]
    },
    {
     "name": "stderr",
     "output_type": "stream",
     "text": [
      "100%|████████████████████████████████████████████████████████████████████████████████| 250/250 [01:14<00:00,  3.35it/s]\n"
     ]
    },
    {
     "name": "stdout",
     "output_type": "stream",
     "text": [
      "Validation Loss: 0.0025, Accuracy: 0.9852\n",
      "Precision: 0.9746, Recall: 0.9965, F1 Score: 0.9854\n",
      "Confusion Matrix:\n",
      "[[1948   52]\n",
      " [   7 1993]]\n",
      "Epoch 5/26\n",
      "----------\n"
     ]
    },
    {
     "name": "stderr",
     "output_type": "stream",
     "text": [
      "100%|██████████████████████████████████████████████████████████████████████████████| 1313/1313 [16:01<00:00,  1.37it/s]\n"
     ]
    },
    {
     "name": "stdout",
     "output_type": "stream",
     "text": [
      "Train Loss: 0.0077\n"
     ]
    },
    {
     "name": "stderr",
     "output_type": "stream",
     "text": [
      "100%|████████████████████████████████████████████████████████████████████████████████| 250/250 [01:14<00:00,  3.35it/s]\n"
     ]
    },
    {
     "name": "stdout",
     "output_type": "stream",
     "text": [
      "Validation Loss: 0.0017, Accuracy: 0.9912\n",
      "Precision: 0.9895, Recall: 0.9930, F1 Score: 0.9913\n",
      "Confusion Matrix:\n",
      "[[1979   21]\n",
      " [  14 1986]]\n",
      "Epoch 6/26\n",
      "----------\n"
     ]
    },
    {
     "name": "stderr",
     "output_type": "stream",
     "text": [
      "100%|██████████████████████████████████████████████████████████████████████████████| 1313/1313 [16:01<00:00,  1.37it/s]\n"
     ]
    },
    {
     "name": "stdout",
     "output_type": "stream",
     "text": [
      "Train Loss: 0.0077\n"
     ]
    },
    {
     "name": "stderr",
     "output_type": "stream",
     "text": [
      "100%|████████████████████████████████████████████████████████████████████████████████| 250/250 [01:15<00:00,  3.32it/s]\n"
     ]
    },
    {
     "name": "stdout",
     "output_type": "stream",
     "text": [
      "Validation Loss: 0.0018, Accuracy: 0.9908\n",
      "Precision: 0.9866, Recall: 0.9950, F1 Score: 0.9908\n",
      "Confusion Matrix:\n",
      "[[1973   27]\n",
      " [  10 1990]]\n",
      "Epoch 7/26\n",
      "----------\n"
     ]
    },
    {
     "name": "stderr",
     "output_type": "stream",
     "text": [
      "100%|██████████████████████████████████████████████████████████████████████████████| 1313/1313 [16:01<00:00,  1.37it/s]\n"
     ]
    },
    {
     "name": "stdout",
     "output_type": "stream",
     "text": [
      "Train Loss: 0.0074\n"
     ]
    },
    {
     "name": "stderr",
     "output_type": "stream",
     "text": [
      "100%|████████████████████████████████████████████████████████████████████████████████| 250/250 [01:15<00:00,  3.31it/s]\n"
     ]
    },
    {
     "name": "stdout",
     "output_type": "stream",
     "text": [
      "Validation Loss: 0.0018, Accuracy: 0.9895\n",
      "Precision: 0.9847, Recall: 0.9945, F1 Score: 0.9896\n",
      "Confusion Matrix:\n",
      "[[1969   31]\n",
      " [  11 1989]]\n",
      "Epoch 8/26\n",
      "----------\n"
     ]
    },
    {
     "name": "stderr",
     "output_type": "stream",
     "text": [
      "100%|██████████████████████████████████████████████████████████████████████████████| 1313/1313 [16:02<00:00,  1.36it/s]\n"
     ]
    },
    {
     "name": "stdout",
     "output_type": "stream",
     "text": [
      "Train Loss: 0.0070\n"
     ]
    },
    {
     "name": "stderr",
     "output_type": "stream",
     "text": [
      "100%|████████████████████████████████████████████████████████████████████████████████| 250/250 [01:15<00:00,  3.32it/s]\n"
     ]
    },
    {
     "name": "stdout",
     "output_type": "stream",
     "text": [
      "Validation Loss: 0.0018, Accuracy: 0.9910\n",
      "Precision: 0.9965, Recall: 0.9855, F1 Score: 0.9910\n",
      "Confusion Matrix:\n",
      "[[1993    7]\n",
      " [  29 1971]]\n",
      "Epoch 9/26\n",
      "----------\n"
     ]
    },
    {
     "name": "stderr",
     "output_type": "stream",
     "text": [
      "100%|██████████████████████████████████████████████████████████████████████████████| 1313/1313 [16:01<00:00,  1.37it/s]\n"
     ]
    },
    {
     "name": "stdout",
     "output_type": "stream",
     "text": [
      "Train Loss: 0.0068\n"
     ]
    },
    {
     "name": "stderr",
     "output_type": "stream",
     "text": [
      "100%|████████████████████████████████████████████████████████████████████████████████| 250/250 [01:14<00:00,  3.36it/s]\n"
     ]
    },
    {
     "name": "stdout",
     "output_type": "stream",
     "text": [
      "Validation Loss: 0.0017, Accuracy: 0.9905\n",
      "Precision: 0.9881, Recall: 0.9930, F1 Score: 0.9905\n",
      "Confusion Matrix:\n",
      "[[1976   24]\n",
      " [  14 1986]]\n",
      "Epoch 10/26\n",
      "----------\n"
     ]
    },
    {
     "name": "stderr",
     "output_type": "stream",
     "text": [
      "100%|██████████████████████████████████████████████████████████████████████████████| 1313/1313 [16:02<00:00,  1.36it/s]\n"
     ]
    },
    {
     "name": "stdout",
     "output_type": "stream",
     "text": [
      "Train Loss: 0.0062\n"
     ]
    },
    {
     "name": "stderr",
     "output_type": "stream",
     "text": [
      "100%|████████████████████████████████████████████████████████████████████████████████| 250/250 [01:17<00:00,  3.21it/s]\n"
     ]
    },
    {
     "name": "stdout",
     "output_type": "stream",
     "text": [
      "Validation Loss: 0.0017, Accuracy: 0.9908\n",
      "Precision: 0.9871, Recall: 0.9945, F1 Score: 0.9908\n",
      "Confusion Matrix:\n",
      "[[1974   26]\n",
      " [  11 1989]]\n",
      "Epoch 11/26\n",
      "----------\n"
     ]
    },
    {
     "name": "stderr",
     "output_type": "stream",
     "text": [
      "100%|██████████████████████████████████████████████████████████████████████████████| 1313/1313 [16:00<00:00,  1.37it/s]\n"
     ]
    },
    {
     "name": "stdout",
     "output_type": "stream",
     "text": [
      "Train Loss: 0.0067\n"
     ]
    },
    {
     "name": "stderr",
     "output_type": "stream",
     "text": [
      "100%|████████████████████████████████████████████████████████████████████████████████| 250/250 [01:15<00:00,  3.32it/s]\n"
     ]
    },
    {
     "name": "stdout",
     "output_type": "stream",
     "text": [
      "Validation Loss: 0.0015, Accuracy: 0.9915\n",
      "Precision: 0.9905, Recall: 0.9925, F1 Score: 0.9915\n",
      "Confusion Matrix:\n",
      "[[1981   19]\n",
      " [  15 1985]]\n",
      "Epoch 12/26\n",
      "----------\n"
     ]
    },
    {
     "name": "stderr",
     "output_type": "stream",
     "text": [
      "100%|██████████████████████████████████████████████████████████████████████████████| 1313/1313 [16:01<00:00,  1.37it/s]\n"
     ]
    },
    {
     "name": "stdout",
     "output_type": "stream",
     "text": [
      "Train Loss: 0.0063\n"
     ]
    },
    {
     "name": "stderr",
     "output_type": "stream",
     "text": [
      "100%|████████████████████████████████████████████████████████████████████████████████| 250/250 [01:14<00:00,  3.38it/s]\n"
     ]
    },
    {
     "name": "stdout",
     "output_type": "stream",
     "text": [
      "Validation Loss: 0.0016, Accuracy: 0.9910\n",
      "Precision: 0.9910, Recall: 0.9910, F1 Score: 0.9910\n",
      "Confusion Matrix:\n",
      "[[1982   18]\n",
      " [  18 1982]]\n",
      "Epoch 13/26\n",
      "----------\n"
     ]
    },
    {
     "name": "stderr",
     "output_type": "stream",
     "text": [
      "100%|██████████████████████████████████████████████████████████████████████████████| 1313/1313 [16:01<00:00,  1.37it/s]\n"
     ]
    },
    {
     "name": "stdout",
     "output_type": "stream",
     "text": [
      "Train Loss: 0.0065\n"
     ]
    },
    {
     "name": "stderr",
     "output_type": "stream",
     "text": [
      "100%|████████████████████████████████████████████████████████████████████████████████| 250/250 [01:14<00:00,  3.37it/s]\n"
     ]
    },
    {
     "name": "stdout",
     "output_type": "stream",
     "text": [
      "Validation Loss: 0.0015, Accuracy: 0.9925\n",
      "Precision: 0.9930, Recall: 0.9920, F1 Score: 0.9925\n",
      "Confusion Matrix:\n",
      "[[1986   14]\n",
      " [  16 1984]]\n",
      "Epoch 14/26\n",
      "----------\n"
     ]
    },
    {
     "name": "stderr",
     "output_type": "stream",
     "text": [
      "100%|██████████████████████████████████████████████████████████████████████████████| 1313/1313 [16:00<00:00,  1.37it/s]\n"
     ]
    },
    {
     "name": "stdout",
     "output_type": "stream",
     "text": [
      "Train Loss: 0.0062\n"
     ]
    },
    {
     "name": "stderr",
     "output_type": "stream",
     "text": [
      "100%|████████████████████████████████████████████████████████████████████████████████| 250/250 [01:14<00:00,  3.35it/s]\n"
     ]
    },
    {
     "name": "stdout",
     "output_type": "stream",
     "text": [
      "Validation Loss: 0.0015, Accuracy: 0.9912\n",
      "Precision: 0.9881, Recall: 0.9945, F1 Score: 0.9913\n",
      "Confusion Matrix:\n",
      "[[1976   24]\n",
      " [  11 1989]]\n",
      "Epoch 15/26\n",
      "----------\n"
     ]
    },
    {
     "name": "stderr",
     "output_type": "stream",
     "text": [
      "100%|██████████████████████████████████████████████████████████████████████████████| 1313/1313 [16:00<00:00,  1.37it/s]\n"
     ]
    },
    {
     "name": "stdout",
     "output_type": "stream",
     "text": [
      "Train Loss: 0.0060\n"
     ]
    },
    {
     "name": "stderr",
     "output_type": "stream",
     "text": [
      "100%|████████████████████████████████████████████████████████████████████████████████| 250/250 [01:14<00:00,  3.34it/s]\n"
     ]
    },
    {
     "name": "stdout",
     "output_type": "stream",
     "text": [
      "Validation Loss: 0.0014, Accuracy: 0.9918\n",
      "Precision: 0.9910, Recall: 0.9925, F1 Score: 0.9918\n",
      "Confusion Matrix:\n",
      "[[1982   18]\n",
      " [  15 1985]]\n",
      "Epoch 16/26\n",
      "----------\n"
     ]
    },
    {
     "name": "stderr",
     "output_type": "stream",
     "text": [
      "100%|██████████████████████████████████████████████████████████████████████████████| 1313/1313 [16:01<00:00,  1.37it/s]\n"
     ]
    },
    {
     "name": "stdout",
     "output_type": "stream",
     "text": [
      "Train Loss: 0.0059\n"
     ]
    },
    {
     "name": "stderr",
     "output_type": "stream",
     "text": [
      "100%|████████████████████████████████████████████████████████████████████████████████| 250/250 [01:14<00:00,  3.37it/s]\n"
     ]
    },
    {
     "name": "stdout",
     "output_type": "stream",
     "text": [
      "Validation Loss: 0.0014, Accuracy: 0.9920\n",
      "Precision: 0.9896, Recall: 0.9945, F1 Score: 0.9920\n",
      "Confusion Matrix:\n",
      "[[1979   21]\n",
      " [  11 1989]]\n",
      "Epoch 17/26\n",
      "----------\n"
     ]
    },
    {
     "name": "stderr",
     "output_type": "stream",
     "text": [
      "100%|██████████████████████████████████████████████████████████████████████████████| 1313/1313 [16:00<00:00,  1.37it/s]\n"
     ]
    },
    {
     "name": "stdout",
     "output_type": "stream",
     "text": [
      "Train Loss: 0.0057\n"
     ]
    },
    {
     "name": "stderr",
     "output_type": "stream",
     "text": [
      "100%|████████████████████████████████████████████████████████████████████████████████| 250/250 [01:14<00:00,  3.38it/s]\n"
     ]
    },
    {
     "name": "stdout",
     "output_type": "stream",
     "text": [
      "Validation Loss: 0.0014, Accuracy: 0.9930\n",
      "Precision: 0.9935, Recall: 0.9925, F1 Score: 0.9930\n",
      "Confusion Matrix:\n",
      "[[1987   13]\n",
      " [  15 1985]]\n",
      "Epoch 18/26\n",
      "----------\n"
     ]
    },
    {
     "name": "stderr",
     "output_type": "stream",
     "text": [
      "100%|██████████████████████████████████████████████████████████████████████████████| 1313/1313 [15:59<00:00,  1.37it/s]\n"
     ]
    },
    {
     "name": "stdout",
     "output_type": "stream",
     "text": [
      "Train Loss: 0.0059\n"
     ]
    },
    {
     "name": "stderr",
     "output_type": "stream",
     "text": [
      "100%|████████████████████████████████████████████████████████████████████████████████| 250/250 [01:14<00:00,  3.36it/s]\n"
     ]
    },
    {
     "name": "stdout",
     "output_type": "stream",
     "text": [
      "Validation Loss: 0.0015, Accuracy: 0.9925\n",
      "Precision: 0.9886, Recall: 0.9965, F1 Score: 0.9925\n",
      "Confusion Matrix:\n",
      "[[1977   23]\n",
      " [   7 1993]]\n",
      "Epoch 19/26\n",
      "----------\n"
     ]
    },
    {
     "name": "stderr",
     "output_type": "stream",
     "text": [
      "100%|██████████████████████████████████████████████████████████████████████████████| 1313/1313 [16:00<00:00,  1.37it/s]\n"
     ]
    },
    {
     "name": "stdout",
     "output_type": "stream",
     "text": [
      "Train Loss: 0.0055\n"
     ]
    },
    {
     "name": "stderr",
     "output_type": "stream",
     "text": [
      "100%|████████████████████████████████████████████████████████████████████████████████| 250/250 [01:14<00:00,  3.34it/s]\n"
     ]
    },
    {
     "name": "stdout",
     "output_type": "stream",
     "text": [
      "Validation Loss: 0.0017, Accuracy: 0.9908\n",
      "Precision: 0.9852, Recall: 0.9965, F1 Score: 0.9908\n",
      "Confusion Matrix:\n",
      "[[1970   30]\n",
      " [   7 1993]]\n",
      "Epoch 20/26\n",
      "----------\n"
     ]
    },
    {
     "name": "stderr",
     "output_type": "stream",
     "text": [
      "100%|██████████████████████████████████████████████████████████████████████████████| 1313/1313 [16:00<00:00,  1.37it/s]\n"
     ]
    },
    {
     "name": "stdout",
     "output_type": "stream",
     "text": [
      "Train Loss: 0.0054\n"
     ]
    },
    {
     "name": "stderr",
     "output_type": "stream",
     "text": [
      "100%|████████████████████████████████████████████████████████████████████████████████| 250/250 [01:14<00:00,  3.38it/s]\n"
     ]
    },
    {
     "name": "stdout",
     "output_type": "stream",
     "text": [
      "Validation Loss: 0.0013, Accuracy: 0.9928\n",
      "Precision: 0.9930, Recall: 0.9925, F1 Score: 0.9927\n",
      "Confusion Matrix:\n",
      "[[1986   14]\n",
      " [  15 1985]]\n",
      "Epoch 21/26\n",
      "----------\n"
     ]
    },
    {
     "name": "stderr",
     "output_type": "stream",
     "text": [
      "100%|██████████████████████████████████████████████████████████████████████████████| 1313/1313 [16:00<00:00,  1.37it/s]\n"
     ]
    },
    {
     "name": "stdout",
     "output_type": "stream",
     "text": [
      "Train Loss: 0.0053\n"
     ]
    },
    {
     "name": "stderr",
     "output_type": "stream",
     "text": [
      "100%|████████████████████████████████████████████████████████████████████████████████| 250/250 [01:14<00:00,  3.35it/s]\n"
     ]
    },
    {
     "name": "stdout",
     "output_type": "stream",
     "text": [
      "Validation Loss: 0.0013, Accuracy: 0.9930\n",
      "Precision: 0.9935, Recall: 0.9925, F1 Score: 0.9930\n",
      "Confusion Matrix:\n",
      "[[1987   13]\n",
      " [  15 1985]]\n",
      "Epoch 22/26\n",
      "----------\n"
     ]
    },
    {
     "name": "stderr",
     "output_type": "stream",
     "text": [
      "100%|██████████████████████████████████████████████████████████████████████████████| 1313/1313 [16:01<00:00,  1.37it/s]\n"
     ]
    },
    {
     "name": "stdout",
     "output_type": "stream",
     "text": [
      "Train Loss: 0.0051\n"
     ]
    },
    {
     "name": "stderr",
     "output_type": "stream",
     "text": [
      "100%|████████████████████████████████████████████████████████████████████████████████| 250/250 [01:15<00:00,  3.33it/s]\n"
     ]
    },
    {
     "name": "stdout",
     "output_type": "stream",
     "text": [
      "Validation Loss: 0.0014, Accuracy: 0.9922\n",
      "Precision: 0.9905, Recall: 0.9940, F1 Score: 0.9923\n",
      "Confusion Matrix:\n",
      "[[1981   19]\n",
      " [  12 1988]]\n",
      "Epoch 23/26\n",
      "----------\n"
     ]
    },
    {
     "name": "stderr",
     "output_type": "stream",
     "text": [
      "100%|██████████████████████████████████████████████████████████████████████████████| 1313/1313 [16:00<00:00,  1.37it/s]\n"
     ]
    },
    {
     "name": "stdout",
     "output_type": "stream",
     "text": [
      "Train Loss: 0.0050\n"
     ]
    },
    {
     "name": "stderr",
     "output_type": "stream",
     "text": [
      "100%|████████████████████████████████████████████████████████████████████████████████| 250/250 [01:14<00:00,  3.34it/s]\n"
     ]
    },
    {
     "name": "stdout",
     "output_type": "stream",
     "text": [
      "Validation Loss: 0.0013, Accuracy: 0.9915\n",
      "Precision: 0.9895, Recall: 0.9935, F1 Score: 0.9915\n",
      "Confusion Matrix:\n",
      "[[1979   21]\n",
      " [  13 1987]]\n",
      "Epoch 24/26\n",
      "----------\n"
     ]
    },
    {
     "name": "stderr",
     "output_type": "stream",
     "text": [
      "100%|██████████████████████████████████████████████████████████████████████████████| 1313/1313 [16:01<00:00,  1.37it/s]\n"
     ]
    },
    {
     "name": "stdout",
     "output_type": "stream",
     "text": [
      "Train Loss: 0.0054\n"
     ]
    },
    {
     "name": "stderr",
     "output_type": "stream",
     "text": [
      "100%|████████████████████████████████████████████████████████████████████████████████| 250/250 [01:14<00:00,  3.37it/s]\n"
     ]
    },
    {
     "name": "stdout",
     "output_type": "stream",
     "text": [
      "Validation Loss: 0.0013, Accuracy: 0.9928\n",
      "Precision: 0.9905, Recall: 0.9950, F1 Score: 0.9928\n",
      "Confusion Matrix:\n",
      "[[1981   19]\n",
      " [  10 1990]]\n",
      "Epoch 25/26\n",
      "----------\n"
     ]
    },
    {
     "name": "stderr",
     "output_type": "stream",
     "text": [
      "100%|██████████████████████████████████████████████████████████████████████████████| 1313/1313 [16:01<00:00,  1.37it/s]\n"
     ]
    },
    {
     "name": "stdout",
     "output_type": "stream",
     "text": [
      "Train Loss: 0.0054\n"
     ]
    },
    {
     "name": "stderr",
     "output_type": "stream",
     "text": [
      "100%|████████████████████████████████████████████████████████████████████████████████| 250/250 [01:14<00:00,  3.35it/s]\n"
     ]
    },
    {
     "name": "stdout",
     "output_type": "stream",
     "text": [
      "Validation Loss: 0.0013, Accuracy: 0.9925\n",
      "Precision: 0.9940, Recall: 0.9910, F1 Score: 0.9925\n",
      "Confusion Matrix:\n",
      "[[1988   12]\n",
      " [  18 1982]]\n",
      "Epoch 26/26\n",
      "----------\n"
     ]
    },
    {
     "name": "stderr",
     "output_type": "stream",
     "text": [
      "100%|██████████████████████████████████████████████████████████████████████████████| 1313/1313 [16:01<00:00,  1.37it/s]\n"
     ]
    },
    {
     "name": "stdout",
     "output_type": "stream",
     "text": [
      "Train Loss: 0.0047\n"
     ]
    },
    {
     "name": "stderr",
     "output_type": "stream",
     "text": [
      "100%|████████████████████████████████████████████████████████████████████████████████| 250/250 [01:15<00:00,  3.32it/s]"
     ]
    },
    {
     "name": "stdout",
     "output_type": "stream",
     "text": [
      "Validation Loss: 0.0013, Accuracy: 0.9920\n",
      "Precision: 0.9900, Recall: 0.9940, F1 Score: 0.9920\n",
      "Confusion Matrix:\n",
      "[[1980   20]\n",
      " [  12 1988]]\n",
      "Training complete in 449m 4s\n",
      "Best Validation Accuracy: 0.9930\n",
      "Best Precision: 0.9935\n",
      "Best Recall: 0.9925\n",
      "Best F1 Score: 0.9930\n"
     ]
    },
    {
     "name": "stderr",
     "output_type": "stream",
     "text": [
      "\n"
     ]
    }
   ],
   "source": [
    "num_epochs = 26\n",
    "train_losses = []\n",
    "val_losses = []\n",
    "val_accuracies = []\n",
    "val_precisions = []\n",
    "val_recalls = []\n",
    "val_f1s = []\n",
    "\n",
    "best_f1 = 0.0\n",
    "best_precision = 0.0\n",
    "best_recall = 0.0\n",
    "best_accuracy = 0.0\n",
    "\n",
    "start_time = time.time()\n",
    "\n",
    "\n",
    "for epoch in range(num_epochs):\n",
    "    print(f'Epoch {epoch+1}/{num_epochs}')\n",
    "    print('-' * 10)\n",
    "\n",
    "    train_loss = train(model_ft, criterion, optimizer_ft, dataloaders, dataset_sizes, device)\n",
    "    val_loss, val_accuracy, precision, recall, f1, conf_matrix = validate(model_ft, dataloaders, dataset_sizes, criterion, device)\n",
    "\n",
    "    train_losses.append(train_loss)\n",
    "    val_losses.append(val_loss)\n",
    "    val_accuracies.append(val_accuracy)\n",
    "    val_precisions.append(precision)\n",
    "    val_recalls.append(recall)\n",
    "    val_f1s.append(f1)\n",
    "\n",
    "    if val_accuracy > best_accuracy:\n",
    "        best_accuracy = val_accuracy\n",
    "        best_f1 = f1\n",
    "        best_precision = precision\n",
    "        best_recall = recall\n",
    "\n",
    "    if epoch%2==0:\n",
    "        writer.add_scalar('Loss/train', train_loss, epoch)\n",
    "        writer.add_scalar('Loss/val', val_loss, epoch)\n",
    "        writer.add_scalar('Accuracy/val', val_accuracy, epoch)\n",
    "        writer.add_scalar('Precision/val', precision, epoch)\n",
    "        writer.add_scalar('Recall/val', recall, epoch)\n",
    "        writer.add_scalar('F1 Score/val', f1, epoch)\n",
    "        writer.add_figure('Confusion Matrix', plot_confusion_matrix(), epoch)\n",
    "\n",
    "\n",
    "end_time = time.time()\n",
    "total_time = end_time - start_time\n",
    "print(f'Training complete in {total_time // 60:.0f}m {total_time % 60:.0f}s')\n",
    "print(f'Best Validation Accuracy: {best_accuracy:.4f}')\n",
    "print(f'Best Precision: {best_precision:.4f}')\n",
    "print(f'Best Recall: {best_recall:.4f}')\n",
    "print(f'Best F1 Score: {best_f1:.4f}')"
   ]
  },
  {
   "cell_type": "code",
   "execution_count": 15,
   "id": "c2469c04-761e-4694-a49e-ca072493fc9a",
   "metadata": {
    "id": "c2469c04-761e-4694-a49e-ca072493fc9a"
   },
   "outputs": [],
   "source": [
    "torch.save(model_ft.state_dict(), 'model_ft1.pth')"
   ]
  },
  {
   "cell_type": "code",
   "execution_count": 6,
   "id": "9907e731-e4ef-498b-b5d4-540e17c3a949",
   "metadata": {
    "id": "9907e731-e4ef-498b-b5d4-540e17c3a949"
   },
   "outputs": [
    {
     "name": "stdout",
     "output_type": "stream",
     "text": [
      "The tensorboard extension is already loaded. To reload it, use:\n",
      "  %reload_ext tensorboard\n"
     ]
    },
    {
     "data": {
      "text/plain": [
       "Reusing TensorBoard on port 6006 (pid 10764), started 2 days, 1:04:48 ago. (Use '!kill 10764' to kill it.)"
      ]
     },
     "metadata": {},
     "output_type": "display_data"
    },
    {
     "data": {
      "text/html": [
       "\n",
       "      <iframe id=\"tensorboard-frame-162ce16cd2175372\" width=\"100%\" height=\"800\" frameborder=\"0\">\n",
       "      </iframe>\n",
       "      <script>\n",
       "        (function() {\n",
       "          const frame = document.getElementById(\"tensorboard-frame-162ce16cd2175372\");\n",
       "          const url = new URL(\"/\", window.location);\n",
       "          const port = 6006;\n",
       "          if (port) {\n",
       "            url.port = port;\n",
       "          }\n",
       "          frame.src = url;\n",
       "        })();\n",
       "      </script>\n",
       "    "
      ],
      "text/plain": [
       "<IPython.core.display.HTML object>"
      ]
     },
     "metadata": {},
     "output_type": "display_data"
    }
   ],
   "source": [
    "%load_ext tensorboard\n",
    "%tensorboard --logdir=\"runs\""
   ]
  },
  {
   "cell_type": "code",
   "execution_count": 5,
   "id": "95aada94-848e-4d24-8dd7-fc4fbf249fa0",
   "metadata": {
    "id": "95aada94-848e-4d24-8dd7-fc4fbf249fa0"
   },
   "outputs": [],
   "source": [
    "%reload_ext tensorboard"
   ]
  },
  {
   "cell_type": "code",
   "execution_count": null,
   "id": "a1f84af9-a6dc-4780-80c7-6b15c6c640c0",
   "metadata": {
    "id": "a1f84af9-a6dc-4780-80c7-6b15c6c640c0"
   },
   "outputs": [],
   "source": []
  }
 ],
 "metadata": {
  "colab": {
   "provenance": []
  },
  "kernelspec": {
   "display_name": "Python 3 (ipykernel)",
   "language": "python",
   "name": "python3"
  },
  "language_info": {
   "codemirror_mode": {
    "name": "ipython",
    "version": 3
   },
   "file_extension": ".py",
   "mimetype": "text/x-python",
   "name": "python",
   "nbconvert_exporter": "python",
   "pygments_lexer": "ipython3",
   "version": "3.12.4"
  }
 },
 "nbformat": 4,
 "nbformat_minor": 5
}
